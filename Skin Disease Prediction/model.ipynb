{
 "cells": [
  {
   "cell_type": "code",
   "execution_count": 7,
   "id": "04ed8382",
   "metadata": {},
   "outputs": [],
   "source": [
    "import numpy as np\n",
    "import pandas as pd\n",
    "import matplotlib.pyplot as plt\n",
    "import cv2\n",
    "import os\n",
    "from sklearn.model_selection import train_test_split\n",
    "from keras.models import Sequential\n",
    "from keras.optimizers import Adam\n",
    "import seaborn as sns\n",
    "from sklearn.preprocessing import LabelEncoder\n",
    "from keras.utils import to_categorical\n",
    "from keras.layers import Conv2D, MaxPooling2D, Flatten, Dense, Dropout\n",
    "from keras.utils import to_categorical\n",
    "from keras.preprocessing.image import ImageDataGenerator\n"
   ]
  },
  {
   "cell_type": "code",
   "execution_count": 8,
   "id": "422fbf75",
   "metadata": {},
   "outputs": [],
   "source": [
    "# Load the dataset with the correct column name for image paths (e.g., 'path')\n",
    "data = pd.read_csv('HAM10000_metadata.csv')\n"
   ]
  },
  {
   "cell_type": "code",
   "execution_count": 9,
   "id": "75d02b0d",
   "metadata": {},
   "outputs": [],
   "source": [
    "# Preprocess the images and labels\n",
    "images = []\n",
    "labels = []\n",
    "image_directory = 'C:\\\\Users\\\\rafih\\\\PycharmProjects\\\\ML\\\\Skin Cancer'  # Replace with your absolute image directory path\n",
    "for index, row in data.iterrows():\n",
    "    image_path = os.path.join(image_directory, row['image_id'] + '.jpg')\n",
    "    image = cv2.imread(image_path)\n",
    "    if image is not None:\n",
    "        image = cv2.resize(image, (224, 224))\n",
    "        images.append(image)\n",
    "        labels.append(row['dx'])\n",
    "\n",
    "# Convert lists to numpy arrays\n",
    "images = np.array(images)\n",
    "labels = np.array(labels)\n",
    "\n",
    "# Normalize the image data\n",
    "images = images / 255.0"
   ]
  },
  {
   "cell_type": "code",
   "execution_count": 10,
   "id": "e8de2af1",
   "metadata": {},
   "outputs": [
    {
     "data": {
      "text/html": [
       "<div>\n",
       "<style scoped>\n",
       "    .dataframe tbody tr th:only-of-type {\n",
       "        vertical-align: middle;\n",
       "    }\n",
       "\n",
       "    .dataframe tbody tr th {\n",
       "        vertical-align: top;\n",
       "    }\n",
       "\n",
       "    .dataframe thead th {\n",
       "        text-align: right;\n",
       "    }\n",
       "</style>\n",
       "<table border=\"1\" class=\"dataframe\">\n",
       "  <thead>\n",
       "    <tr style=\"text-align: right;\">\n",
       "      <th></th>\n",
       "      <th>lesion_id</th>\n",
       "      <th>image_id</th>\n",
       "      <th>dx</th>\n",
       "      <th>dx_type</th>\n",
       "      <th>age</th>\n",
       "      <th>sex</th>\n",
       "      <th>localization</th>\n",
       "    </tr>\n",
       "  </thead>\n",
       "  <tbody>\n",
       "    <tr>\n",
       "      <th>0</th>\n",
       "      <td>HAM_0000118</td>\n",
       "      <td>ISIC_0027419</td>\n",
       "      <td>bkl</td>\n",
       "      <td>histo</td>\n",
       "      <td>80.0</td>\n",
       "      <td>male</td>\n",
       "      <td>scalp</td>\n",
       "    </tr>\n",
       "    <tr>\n",
       "      <th>1</th>\n",
       "      <td>HAM_0000118</td>\n",
       "      <td>ISIC_0025030</td>\n",
       "      <td>bkl</td>\n",
       "      <td>histo</td>\n",
       "      <td>80.0</td>\n",
       "      <td>male</td>\n",
       "      <td>scalp</td>\n",
       "    </tr>\n",
       "    <tr>\n",
       "      <th>2</th>\n",
       "      <td>HAM_0002730</td>\n",
       "      <td>ISIC_0026769</td>\n",
       "      <td>bkl</td>\n",
       "      <td>histo</td>\n",
       "      <td>80.0</td>\n",
       "      <td>male</td>\n",
       "      <td>scalp</td>\n",
       "    </tr>\n",
       "    <tr>\n",
       "      <th>3</th>\n",
       "      <td>HAM_0002730</td>\n",
       "      <td>ISIC_0025661</td>\n",
       "      <td>bkl</td>\n",
       "      <td>histo</td>\n",
       "      <td>80.0</td>\n",
       "      <td>male</td>\n",
       "      <td>scalp</td>\n",
       "    </tr>\n",
       "    <tr>\n",
       "      <th>4</th>\n",
       "      <td>HAM_0001466</td>\n",
       "      <td>ISIC_0031633</td>\n",
       "      <td>bkl</td>\n",
       "      <td>histo</td>\n",
       "      <td>75.0</td>\n",
       "      <td>male</td>\n",
       "      <td>ear</td>\n",
       "    </tr>\n",
       "  </tbody>\n",
       "</table>\n",
       "</div>"
      ],
      "text/plain": [
       "     lesion_id      image_id   dx dx_type   age   sex localization\n",
       "0  HAM_0000118  ISIC_0027419  bkl   histo  80.0  male        scalp\n",
       "1  HAM_0000118  ISIC_0025030  bkl   histo  80.0  male        scalp\n",
       "2  HAM_0002730  ISIC_0026769  bkl   histo  80.0  male        scalp\n",
       "3  HAM_0002730  ISIC_0025661  bkl   histo  80.0  male        scalp\n",
       "4  HAM_0001466  ISIC_0031633  bkl   histo  75.0  male          ear"
      ]
     },
     "execution_count": 10,
     "metadata": {},
     "output_type": "execute_result"
    }
   ],
   "source": [
    "meta_data = pd.read_csv(\"HAM10000_metadata.csv\")\n",
    "meta_data.head()"
   ]
  },
  {
   "cell_type": "code",
   "execution_count": 11,
   "id": "e698c583",
   "metadata": {},
   "outputs": [
    {
     "name": "stdout",
     "output_type": "stream",
     "text": [
      "Unique Cancer types represented in data.\n",
      "['bkl' 'nv' 'df' 'mel' 'vasc' 'bcc' 'akiec'] \n",
      "\n",
      "Cancer types and their integer encoding\n",
      "['akiec' 'bcc' 'bkl' 'df' 'mel' 'nv' 'vasc']\n",
      "[0 1 2 3 4 5 6]\n"
     ]
    }
   ],
   "source": [
    "print(\"Unique Cancer types represented in data.\")\n",
    "print(meta_data.dx.unique(),\"\\n\")\n",
    "\n",
    "# Handling categorical data\n",
    "encoder = LabelEncoder()\n",
    "meta_data[\"dx_label\"] = encoder.fit_transform(meta_data[\"dx\"])\n",
    "\n",
    "# Display of labels and their integer encoding\n",
    "print(\"Cancer types and their integer encoding\")\n",
    "print(encoder.classes_)\n",
    "print(encoder.transform(encoder.classes_))"
   ]
  },
  {
   "cell_type": "code",
   "execution_count": 12,
   "id": "8cdea184",
   "metadata": {},
   "outputs": [],
   "source": [
    "\n",
    "\n",
    "# Convert labels to numerical classes\n",
    "unique_labels = np.unique(labels)\n",
    "label_to_index = {label: index for index, label in enumerate(unique_labels)}\n",
    "labels = np.array([label_to_index[label] for label in labels])\n",
    "\n",
    "# Convert labels to one-hot encoded vectors\n",
    "num_classes = len(unique_labels)\n",
    "labels = to_categorical(labels, num_classes)"
   ]
  },
  {
   "cell_type": "code",
   "execution_count": 13,
   "id": "c7b36457",
   "metadata": {},
   "outputs": [],
   "source": [
    "# Split the data into training and testing sets\n",
    "X_train, X_test, y_train, y_test = train_test_split(images, labels, test_size=0.2, random_state=42)\n",
    "\n"
   ]
  },
  {
   "cell_type": "code",
   "execution_count": 14,
   "id": "43fc1e55",
   "metadata": {},
   "outputs": [
    {
     "name": "stdout",
     "output_type": "stream",
     "text": [
      "Model: \"sequential\"\n",
      "_________________________________________________________________\n",
      " Layer (type)                Output Shape              Param #   \n",
      "=================================================================\n",
      " conv2d (Conv2D)             (None, 222, 222, 32)      896       \n",
      "                                                                 \n",
      " max_pooling2d (MaxPooling2  (None, 111, 111, 32)      0         \n",
      " D)                                                              \n",
      "                                                                 \n",
      " conv2d_1 (Conv2D)           (None, 109, 109, 64)      18496     \n",
      "                                                                 \n",
      " max_pooling2d_1 (MaxPoolin  (None, 54, 54, 64)        0         \n",
      " g2D)                                                            \n",
      "                                                                 \n",
      " conv2d_2 (Conv2D)           (None, 52, 52, 128)       73856     \n",
      "                                                                 \n",
      " max_pooling2d_2 (MaxPoolin  (None, 26, 26, 128)       0         \n",
      " g2D)                                                            \n",
      "                                                                 \n",
      " flatten (Flatten)           (None, 86528)             0         \n",
      "                                                                 \n",
      " dense (Dense)               (None, 512)               44302848  \n",
      "                                                                 \n",
      " dropout (Dropout)           (None, 512)               0         \n",
      "                                                                 \n",
      " dense_1 (Dense)             (None, 7)                 3591      \n",
      "                                                                 \n",
      "=================================================================\n",
      "Total params: 44399687 (169.37 MB)\n",
      "Trainable params: 44399687 (169.37 MB)\n",
      "Non-trainable params: 0 (0.00 Byte)\n",
      "_________________________________________________________________\n"
     ]
    }
   ],
   "source": [
    "# Create the CNN model\n",
    "model = Sequential()\n",
    "model.add(Conv2D(32, (3, 3), activation='relu', input_shape=(224, 224, 3)))\n",
    "model.add(MaxPooling2D((2, 2)))\n",
    "model.add(Conv2D(64, (3, 3), activation='relu'))\n",
    "model.add(MaxPooling2D((2, 2)))\n",
    "model.add(Conv2D(128, (3, 3), activation='relu'))\n",
    "model.add(MaxPooling2D((2, 2)))\n",
    "model.add(Flatten())\n",
    "model.add(Dense(512, activation='relu'))\n",
    "model.add(Dropout(0.5))\n",
    "model.add(Dense(num_classes, activation='softmax'))\n",
    "\n",
    "model.summary()\n"
   ]
  },
  {
   "cell_type": "code",
   "execution_count": 15,
   "id": "91907426",
   "metadata": {},
   "outputs": [],
   "source": [
    "# Compile the model\n",
    "model.compile(optimizer='adam', loss='categorical_crossentropy', metrics=['accuracy'])\n",
    "\n",
    "# Data augmentation for better generalization\n",
    "datagen = ImageDataGenerator(\n",
    "    rotation_range=20,\n",
    "    width_shift_range=0.2,\n",
    "    height_shift_range=0.2,\n",
    "    shear_range=0.2,\n",
    "    zoom_range=0.2,\n",
    "    horizontal_flip=True,\n",
    "    fill_mode='nearest'\n",
    ")\n",
    "\n",
    "datagen.fit(X_train)"
   ]
  },
  {
   "cell_type": "code",
   "execution_count": null,
   "id": "df14a4da",
   "metadata": {},
   "outputs": [
    {
     "name": "stdout",
     "output_type": "stream",
     "text": [
      "Epoch 1/15\n",
      "251/251 [==============================] - 370s 1s/step - loss: 1.1102 - accuracy: 0.6630 - val_loss: 0.9607 - val_accuracy: 0.6680\n",
      "Epoch 2/15\n",
      "251/251 [==============================] - 330s 1s/step - loss: 0.9732 - accuracy: 0.6659 - val_loss: 0.8819 - val_accuracy: 0.6665\n",
      "Epoch 3/15\n",
      "251/251 [==============================] - 325s 1s/step - loss: 0.9053 - accuracy: 0.6716 - val_loss: 0.9499 - val_accuracy: 0.6695\n",
      "Epoch 4/15\n",
      "251/251 [==============================] - 322s 1s/step - loss: 0.8927 - accuracy: 0.6755 - val_loss: 0.8904 - val_accuracy: 0.6610\n",
      "Epoch 5/15\n",
      "251/251 [==============================] - 319s 1s/step - loss: 0.8673 - accuracy: 0.6767 - val_loss: 0.8376 - val_accuracy: 0.6835\n",
      "Epoch 6/15\n",
      "251/251 [==============================] - 308s 1s/step - loss: 0.8668 - accuracy: 0.6833 - val_loss: 0.8143 - val_accuracy: 0.6760\n",
      "Epoch 7/15\n",
      "251/251 [==============================] - 308s 1s/step - loss: 0.8246 - accuracy: 0.6865 - val_loss: 0.8833 - val_accuracy: 0.6785\n",
      "Epoch 8/15\n",
      "251/251 [==============================] - 310s 1s/step - loss: 0.8228 - accuracy: 0.6876 - val_loss: 0.7878 - val_accuracy: 0.6915\n",
      "Epoch 9/15\n",
      "189/251 [=====================>........] - ETA: 1:14 - loss: 0.7976 - accuracy: 0.6977"
     ]
    }
   ],
   "source": [
    "# Train the model with data augmentation\n",
    "history = model.fit(datagen.flow(X_train, y_train, batch_size=32), epochs=15, validation_data=(X_test, y_test))\n"
   ]
  },
  {
   "cell_type": "code",
   "execution_count": null,
   "id": "e0fd7f38",
   "metadata": {},
   "outputs": [],
   "source": [
    "# Evaluate the model on the test data\n",
    "test_loss, test_acc = model.evaluate(X_test, y_test)\n",
    "print(\"Test accuracy:\", test_acc)\n"
   ]
  },
  {
   "cell_type": "code",
   "execution_count": null,
   "id": "26ccf761",
   "metadata": {},
   "outputs": [],
   "source": [
    "# Extracting metrics\n",
    "metrics = history.history\n",
    "\n",
    "train_loss = metrics[\"loss\"]\n",
    "train_accuracy = metrics[\"accuracy\"]\n",
    "\n",
    "test_loss = metrics[\"val_loss\"]\n",
    "test_accuracy = metrics[\"val_accuracy\"]\n",
    "\n",
    "# Visualizing metrics\n",
    "plt.figure(figsize = (13,4))\n",
    "plt.subplot(1,2,1)\n",
    "plt.title(\"Loss.\")\n",
    "plt.plot(train_loss, label = \"Train\");\n",
    "plt.plot(test_loss, label = \"Test\");\n",
    "plt.grid(True)\n",
    "plt.legend(loc = \"best\");\n",
    "\n",
    "plt.subplot(1,2,2)\n",
    "plt.title(\"Accuracy.\")\n",
    "plt.plot(train_accuracy, label = \"Train\");\n",
    "plt.plot(test_accuracy, label = \"Test\");\n",
    "plt.grid(True)\n",
    "plt.legend(loc = \"best\");"
   ]
  },
  {
   "cell_type": "code",
   "execution_count": null,
   "id": "6fff24e3",
   "metadata": {},
   "outputs": [],
   "source": []
  }
 ],
 "metadata": {
  "kernelspec": {
   "display_name": "Python 3 (ipykernel)",
   "language": "python",
   "name": "python3"
  },
  "language_info": {
   "codemirror_mode": {
    "name": "ipython",
    "version": 3
   },
   "file_extension": ".py",
   "mimetype": "text/x-python",
   "name": "python",
   "nbconvert_exporter": "python",
   "pygments_lexer": "ipython3",
   "version": "3.9.7"
  }
 },
 "nbformat": 4,
 "nbformat_minor": 5
}
